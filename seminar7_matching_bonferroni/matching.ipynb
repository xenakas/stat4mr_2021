{
 "cells": [
  {
   "cell_type": "markdown",
   "id": "a55f60e0",
   "metadata": {},
   "source": [
    "### Matching"
   ]
  },
  {
   "cell_type": "code",
   "execution_count": 1,
   "id": "8b10361c",
   "metadata": {
    "ExecuteTime": {
     "end_time": "2021-11-13T11:45:19.098004Z",
     "start_time": "2021-11-13T11:45:18.950755Z"
    }
   },
   "outputs": [],
   "source": [
    "import pandas as pd\n",
    "import random"
   ]
  },
  {
   "cell_type": "code",
   "execution_count": 3,
   "id": "757b4f14",
   "metadata": {
    "ExecuteTime": {
     "end_time": "2021-11-13T11:45:39.005626Z",
     "start_time": "2021-11-13T11:45:38.886802Z"
    }
   },
   "outputs": [
    {
     "data": {
      "text/html": [
       "<div>\n",
       "<style scoped>\n",
       "    .dataframe tbody tr th:only-of-type {\n",
       "        vertical-align: middle;\n",
       "    }\n",
       "\n",
       "    .dataframe tbody tr th {\n",
       "        vertical-align: top;\n",
       "    }\n",
       "\n",
       "    .dataframe thead th {\n",
       "        text-align: right;\n",
       "    }\n",
       "</style>\n",
       "<table border=\"1\" class=\"dataframe\">\n",
       "  <thead>\n",
       "    <tr style=\"text-align: right;\">\n",
       "      <th></th>\n",
       "      <th>smoker</th>\n",
       "      <th>treatment</th>\n",
       "      <th>dead</th>\n",
       "    </tr>\n",
       "  </thead>\n",
       "  <tbody>\n",
       "    <tr>\n",
       "      <th>0</th>\n",
       "      <td>0</td>\n",
       "      <td>0</td>\n",
       "      <td>0</td>\n",
       "    </tr>\n",
       "    <tr>\n",
       "      <th>1</th>\n",
       "      <td>1</td>\n",
       "      <td>1</td>\n",
       "      <td>0</td>\n",
       "    </tr>\n",
       "    <tr>\n",
       "      <th>2</th>\n",
       "      <td>1</td>\n",
       "      <td>1</td>\n",
       "      <td>0</td>\n",
       "    </tr>\n",
       "    <tr>\n",
       "      <th>3</th>\n",
       "      <td>0</td>\n",
       "      <td>1</td>\n",
       "      <td>0</td>\n",
       "    </tr>\n",
       "    <tr>\n",
       "      <th>4</th>\n",
       "      <td>0</td>\n",
       "      <td>0</td>\n",
       "      <td>0</td>\n",
       "    </tr>\n",
       "    <tr>\n",
       "      <th>...</th>\n",
       "      <td>...</td>\n",
       "      <td>...</td>\n",
       "      <td>...</td>\n",
       "    </tr>\n",
       "    <tr>\n",
       "      <th>999995</th>\n",
       "      <td>0</td>\n",
       "      <td>0</td>\n",
       "      <td>0</td>\n",
       "    </tr>\n",
       "    <tr>\n",
       "      <th>999996</th>\n",
       "      <td>1</td>\n",
       "      <td>1</td>\n",
       "      <td>0</td>\n",
       "    </tr>\n",
       "    <tr>\n",
       "      <th>999997</th>\n",
       "      <td>0</td>\n",
       "      <td>0</td>\n",
       "      <td>0</td>\n",
       "    </tr>\n",
       "    <tr>\n",
       "      <th>999998</th>\n",
       "      <td>0</td>\n",
       "      <td>0</td>\n",
       "      <td>0</td>\n",
       "    </tr>\n",
       "    <tr>\n",
       "      <th>999999</th>\n",
       "      <td>0</td>\n",
       "      <td>0</td>\n",
       "      <td>0</td>\n",
       "    </tr>\n",
       "  </tbody>\n",
       "</table>\n",
       "<p>1000000 rows × 3 columns</p>\n",
       "</div>"
      ],
      "text/plain": [
       "        smoker  treatment  dead\n",
       "0            0          0     0\n",
       "1            1          1     0\n",
       "2            1          1     0\n",
       "3            0          1     0\n",
       "4            0          0     0\n",
       "...        ...        ...   ...\n",
       "999995       0          0     0\n",
       "999996       1          1     0\n",
       "999997       0          0     0\n",
       "999998       0          0     0\n",
       "999999       0          0     0\n",
       "\n",
       "[1000000 rows x 3 columns]"
      ]
     },
     "execution_count": 3,
     "metadata": {},
     "output_type": "execute_result"
    }
   ],
   "source": [
    "df = pd.read_csv('sample')\n",
    "df"
   ]
  },
  {
   "cell_type": "code",
   "execution_count": 6,
   "id": "12d314b3",
   "metadata": {
    "ExecuteTime": {
     "end_time": "2021-11-13T11:47:22.895546Z",
     "start_time": "2021-11-13T11:47:22.829947Z"
    }
   },
   "outputs": [],
   "source": [
    "treated = df[df['treatment']==1]\n",
    "untreated = df[df['treatment']==0]\n",
    "# treated"
   ]
  },
  {
   "cell_type": "code",
   "execution_count": 7,
   "id": "bbb8f783",
   "metadata": {
    "ExecuteTime": {
     "end_time": "2021-11-13T11:47:59.514576Z",
     "start_time": "2021-11-13T11:47:59.508001Z"
    }
   },
   "outputs": [
    {
     "data": {
      "text/plain": [
       "0.32080451312239394"
      ]
     },
     "execution_count": 7,
     "metadata": {},
     "output_type": "execute_result"
    }
   ],
   "source": [
    "dead_t = treated['dead'].mean()\n",
    "dead_t"
   ]
  },
  {
   "cell_type": "code",
   "execution_count": 8,
   "id": "bcd1455b",
   "metadata": {
    "ExecuteTime": {
     "end_time": "2021-11-13T11:48:25.676692Z",
     "start_time": "2021-11-13T11:48:25.664498Z"
    }
   },
   "outputs": [
    {
     "data": {
      "text/plain": [
       "0.23595664229896648"
      ]
     },
     "execution_count": 8,
     "metadata": {},
     "output_type": "execute_result"
    }
   ],
   "source": [
    "dead_c = untreated['dead'].mean()\n",
    "dead_c"
   ]
  },
  {
   "cell_type": "code",
   "execution_count": 9,
   "id": "9c115348",
   "metadata": {
    "ExecuteTime": {
     "end_time": "2021-11-13T11:48:44.016942Z",
     "start_time": "2021-11-13T11:48:44.013860Z"
    }
   },
   "outputs": [
    {
     "data": {
      "text/plain": [
       "0.08484787082342746"
      ]
     },
     "execution_count": 9,
     "metadata": {},
     "output_type": "execute_result"
    }
   ],
   "source": [
    "dead_t - dead_c"
   ]
  },
  {
   "cell_type": "markdown",
   "id": "95201b27",
   "metadata": {},
   "source": [
    "### Method 1 (PS)"
   ]
  },
  {
   "cell_type": "markdown",
   "id": "953fbb66",
   "metadata": {},
   "source": [
    "$$e(smoker) = p(treatment=1|smoker) $$"
   ]
  },
  {
   "cell_type": "code",
   "execution_count": 11,
   "id": "10efff2c",
   "metadata": {
    "ExecuteTime": {
     "end_time": "2021-11-13T11:53:06.204692Z",
     "start_time": "2021-11-13T11:53:06.173314Z"
    }
   },
   "outputs": [
    {
     "data": {
      "text/plain": [
       "0.551550247155304"
      ]
     },
     "execution_count": 11,
     "metadata": {},
     "output_type": "execute_result"
    }
   ],
   "source": [
    "n_smokers = len(df[df['smoker']==1])\n",
    "n_smokers_t = len(df[(df['smoker']==1)&(df['treatment']==1)])\n",
    "e_smoker = n_smokers_t/n_smokers\n",
    "e_smoker"
   ]
  },
  {
   "cell_type": "code",
   "execution_count": 12,
   "id": "bcfc73d4",
   "metadata": {
    "ExecuteTime": {
     "end_time": "2021-11-13T11:53:48.254301Z",
     "start_time": "2021-11-13T11:53:48.206441Z"
    }
   },
   "outputs": [
    {
     "data": {
      "text/plain": [
       "0.20002946321174753"
      ]
     },
     "execution_count": 12,
     "metadata": {},
     "output_type": "execute_result"
    }
   ],
   "source": [
    "n_nonsmokers = len(df[df['smoker']==0])\n",
    "n_nonsmokers_t = len(df[(df['smoker']==0)&(df['treatment']==1)])\n",
    "e_nonsmoker = n_nonsmokers_t/n_nonsmokers\n",
    "e_nonsmoker"
   ]
  },
  {
   "cell_type": "code",
   "execution_count": 13,
   "id": "3f95db38",
   "metadata": {
    "ExecuteTime": {
     "end_time": "2021-11-13T11:54:35.700125Z",
     "start_time": "2021-11-13T11:54:35.689920Z"
    }
   },
   "outputs": [],
   "source": [
    "df['propenstity'] = df['smoker']*e_smoker + (1- df['smoker'])*e_nonsmoker"
   ]
  },
  {
   "cell_type": "code",
   "execution_count": 17,
   "id": "793d73d6",
   "metadata": {
    "ExecuteTime": {
     "end_time": "2021-11-13T11:57:06.009199Z",
     "start_time": "2021-11-13T11:57:05.986769Z"
    }
   },
   "outputs": [
    {
     "data": {
      "text/html": [
       "<div>\n",
       "<style scoped>\n",
       "    .dataframe tbody tr th:only-of-type {\n",
       "        vertical-align: middle;\n",
       "    }\n",
       "\n",
       "    .dataframe tbody tr th {\n",
       "        vertical-align: top;\n",
       "    }\n",
       "\n",
       "    .dataframe thead th {\n",
       "        text-align: right;\n",
       "    }\n",
       "</style>\n",
       "<table border=\"1\" class=\"dataframe\">\n",
       "  <thead>\n",
       "    <tr style=\"text-align: right;\">\n",
       "      <th></th>\n",
       "      <th>smoker</th>\n",
       "      <th>treatment</th>\n",
       "      <th>dead</th>\n",
       "      <th>propenstity</th>\n",
       "    </tr>\n",
       "  </thead>\n",
       "  <tbody>\n",
       "    <tr>\n",
       "      <th>0</th>\n",
       "      <td>1</td>\n",
       "      <td>1</td>\n",
       "      <td>0</td>\n",
       "      <td>0.551550</td>\n",
       "    </tr>\n",
       "    <tr>\n",
       "      <th>1</th>\n",
       "      <td>0</td>\n",
       "      <td>1</td>\n",
       "      <td>0</td>\n",
       "      <td>0.200029</td>\n",
       "    </tr>\n",
       "    <tr>\n",
       "      <th>2</th>\n",
       "      <td>1</td>\n",
       "      <td>1</td>\n",
       "      <td>0</td>\n",
       "      <td>0.551550</td>\n",
       "    </tr>\n",
       "    <tr>\n",
       "      <th>3</th>\n",
       "      <td>1</td>\n",
       "      <td>1</td>\n",
       "      <td>1</td>\n",
       "      <td>0.551550</td>\n",
       "    </tr>\n",
       "    <tr>\n",
       "      <th>4</th>\n",
       "      <td>0</td>\n",
       "      <td>1</td>\n",
       "      <td>0</td>\n",
       "      <td>0.200029</td>\n",
       "    </tr>\n",
       "    <tr>\n",
       "      <th>...</th>\n",
       "      <td>...</td>\n",
       "      <td>...</td>\n",
       "      <td>...</td>\n",
       "      <td>...</td>\n",
       "    </tr>\n",
       "    <tr>\n",
       "      <th>995</th>\n",
       "      <td>1</td>\n",
       "      <td>1</td>\n",
       "      <td>0</td>\n",
       "      <td>0.551550</td>\n",
       "    </tr>\n",
       "    <tr>\n",
       "      <th>996</th>\n",
       "      <td>1</td>\n",
       "      <td>1</td>\n",
       "      <td>1</td>\n",
       "      <td>0.551550</td>\n",
       "    </tr>\n",
       "    <tr>\n",
       "      <th>997</th>\n",
       "      <td>1</td>\n",
       "      <td>1</td>\n",
       "      <td>1</td>\n",
       "      <td>0.551550</td>\n",
       "    </tr>\n",
       "    <tr>\n",
       "      <th>998</th>\n",
       "      <td>1</td>\n",
       "      <td>1</td>\n",
       "      <td>1</td>\n",
       "      <td>0.551550</td>\n",
       "    </tr>\n",
       "    <tr>\n",
       "      <th>999</th>\n",
       "      <td>1</td>\n",
       "      <td>1</td>\n",
       "      <td>0</td>\n",
       "      <td>0.551550</td>\n",
       "    </tr>\n",
       "  </tbody>\n",
       "</table>\n",
       "<p>1000 rows × 4 columns</p>\n",
       "</div>"
      ],
      "text/plain": [
       "     smoker  treatment  dead  propenstity\n",
       "0         1          1     0     0.551550\n",
       "1         0          1     0     0.200029\n",
       "2         1          1     0     0.551550\n",
       "3         1          1     1     0.551550\n",
       "4         0          1     0     0.200029\n",
       "..      ...        ...   ...          ...\n",
       "995       1          1     0     0.551550\n",
       "996       1          1     1     0.551550\n",
       "997       1          1     1     0.551550\n",
       "998       1          1     1     0.551550\n",
       "999       1          1     0     0.551550\n",
       "\n",
       "[1000 rows x 4 columns]"
      ]
     },
     "execution_count": 17,
     "metadata": {},
     "output_type": "execute_result"
    }
   ],
   "source": [
    "treated = df[df['treatment']==1].sample(1000).reset_index(drop=True)\n",
    "treated"
   ]
  },
  {
   "cell_type": "code",
   "execution_count": 21,
   "id": "0c741e02",
   "metadata": {
    "ExecuteTime": {
     "end_time": "2021-11-13T12:00:23.007259Z",
     "start_time": "2021-11-13T12:00:22.987760Z"
    }
   },
   "outputs": [],
   "source": [
    "untreated = df[df['treatment']==0]\n",
    "matched = []\n",
    "def add_matched(patient):\n",
    "    control_patient = untreated[untreated['propenstity']==patient['propenstity']].sample().iloc[0]\n",
    "    matched.append(control_patient)"
   ]
  },
  {
   "cell_type": "code",
   "execution_count": 22,
   "id": "a57a2a05",
   "metadata": {
    "ExecuteTime": {
     "end_time": "2021-11-13T12:00:38.621292Z",
     "start_time": "2021-11-13T12:00:24.891586Z"
    }
   },
   "outputs": [
    {
     "data": {
      "text/plain": [
       "0      None\n",
       "1      None\n",
       "2      None\n",
       "3      None\n",
       "4      None\n",
       "       ... \n",
       "995    None\n",
       "996    None\n",
       "997    None\n",
       "998    None\n",
       "999    None\n",
       "Length: 1000, dtype: object"
      ]
     },
     "execution_count": 22,
     "metadata": {},
     "output_type": "execute_result"
    }
   ],
   "source": [
    "treated.apply(add_matched, axis=1)"
   ]
  },
  {
   "cell_type": "code",
   "execution_count": 24,
   "id": "479a9725",
   "metadata": {
    "ExecuteTime": {
     "end_time": "2021-11-13T12:00:44.718888Z",
     "start_time": "2021-11-13T12:00:44.715442Z"
    }
   },
   "outputs": [],
   "source": [
    "# matched"
   ]
  },
  {
   "cell_type": "code",
   "execution_count": 25,
   "id": "99db70f6",
   "metadata": {
    "ExecuteTime": {
     "end_time": "2021-11-13T12:01:04.695749Z",
     "start_time": "2021-11-13T12:01:04.659141Z"
    }
   },
   "outputs": [],
   "source": [
    "matched_df  = pd.DataFrame(matched).reset_index(drop=True)"
   ]
  },
  {
   "cell_type": "code",
   "execution_count": 27,
   "id": "52200fd0",
   "metadata": {
    "ExecuteTime": {
     "end_time": "2021-11-13T12:01:57.984639Z",
     "start_time": "2021-11-13T12:01:57.966820Z"
    }
   },
   "outputs": [
    {
     "data": {
      "text/html": [
       "<div>\n",
       "<style scoped>\n",
       "    .dataframe tbody tr th:only-of-type {\n",
       "        vertical-align: middle;\n",
       "    }\n",
       "\n",
       "    .dataframe tbody tr th {\n",
       "        vertical-align: top;\n",
       "    }\n",
       "\n",
       "    .dataframe thead th {\n",
       "        text-align: right;\n",
       "    }\n",
       "</style>\n",
       "<table border=\"1\" class=\"dataframe\">\n",
       "  <thead>\n",
       "    <tr style=\"text-align: right;\">\n",
       "      <th></th>\n",
       "      <th>smoker</th>\n",
       "      <th>treatment</th>\n",
       "      <th>dead</th>\n",
       "      <th>propenstity</th>\n",
       "      <th>smoker_control</th>\n",
       "      <th>treatment_control</th>\n",
       "      <th>dead_control</th>\n",
       "      <th>propenstity_control</th>\n",
       "    </tr>\n",
       "  </thead>\n",
       "  <tbody>\n",
       "    <tr>\n",
       "      <th>0</th>\n",
       "      <td>1</td>\n",
       "      <td>1</td>\n",
       "      <td>0</td>\n",
       "      <td>0.551550</td>\n",
       "      <td>1.0</td>\n",
       "      <td>0.0</td>\n",
       "      <td>1.0</td>\n",
       "      <td>0.551550</td>\n",
       "    </tr>\n",
       "    <tr>\n",
       "      <th>1</th>\n",
       "      <td>0</td>\n",
       "      <td>1</td>\n",
       "      <td>0</td>\n",
       "      <td>0.200029</td>\n",
       "      <td>0.0</td>\n",
       "      <td>0.0</td>\n",
       "      <td>0.0</td>\n",
       "      <td>0.200029</td>\n",
       "    </tr>\n",
       "    <tr>\n",
       "      <th>2</th>\n",
       "      <td>1</td>\n",
       "      <td>1</td>\n",
       "      <td>0</td>\n",
       "      <td>0.551550</td>\n",
       "      <td>1.0</td>\n",
       "      <td>0.0</td>\n",
       "      <td>1.0</td>\n",
       "      <td>0.551550</td>\n",
       "    </tr>\n",
       "    <tr>\n",
       "      <th>3</th>\n",
       "      <td>1</td>\n",
       "      <td>1</td>\n",
       "      <td>1</td>\n",
       "      <td>0.551550</td>\n",
       "      <td>1.0</td>\n",
       "      <td>0.0</td>\n",
       "      <td>1.0</td>\n",
       "      <td>0.551550</td>\n",
       "    </tr>\n",
       "    <tr>\n",
       "      <th>4</th>\n",
       "      <td>0</td>\n",
       "      <td>1</td>\n",
       "      <td>0</td>\n",
       "      <td>0.200029</td>\n",
       "      <td>0.0</td>\n",
       "      <td>0.0</td>\n",
       "      <td>0.0</td>\n",
       "      <td>0.200029</td>\n",
       "    </tr>\n",
       "    <tr>\n",
       "      <th>...</th>\n",
       "      <td>...</td>\n",
       "      <td>...</td>\n",
       "      <td>...</td>\n",
       "      <td>...</td>\n",
       "      <td>...</td>\n",
       "      <td>...</td>\n",
       "      <td>...</td>\n",
       "      <td>...</td>\n",
       "    </tr>\n",
       "    <tr>\n",
       "      <th>995</th>\n",
       "      <td>1</td>\n",
       "      <td>1</td>\n",
       "      <td>0</td>\n",
       "      <td>0.551550</td>\n",
       "      <td>1.0</td>\n",
       "      <td>0.0</td>\n",
       "      <td>1.0</td>\n",
       "      <td>0.551550</td>\n",
       "    </tr>\n",
       "    <tr>\n",
       "      <th>996</th>\n",
       "      <td>1</td>\n",
       "      <td>1</td>\n",
       "      <td>1</td>\n",
       "      <td>0.551550</td>\n",
       "      <td>1.0</td>\n",
       "      <td>0.0</td>\n",
       "      <td>1.0</td>\n",
       "      <td>0.551550</td>\n",
       "    </tr>\n",
       "    <tr>\n",
       "      <th>997</th>\n",
       "      <td>1</td>\n",
       "      <td>1</td>\n",
       "      <td>1</td>\n",
       "      <td>0.551550</td>\n",
       "      <td>1.0</td>\n",
       "      <td>0.0</td>\n",
       "      <td>1.0</td>\n",
       "      <td>0.551550</td>\n",
       "    </tr>\n",
       "    <tr>\n",
       "      <th>998</th>\n",
       "      <td>1</td>\n",
       "      <td>1</td>\n",
       "      <td>1</td>\n",
       "      <td>0.551550</td>\n",
       "      <td>1.0</td>\n",
       "      <td>0.0</td>\n",
       "      <td>1.0</td>\n",
       "      <td>0.551550</td>\n",
       "    </tr>\n",
       "    <tr>\n",
       "      <th>999</th>\n",
       "      <td>1</td>\n",
       "      <td>1</td>\n",
       "      <td>0</td>\n",
       "      <td>0.551550</td>\n",
       "      <td>1.0</td>\n",
       "      <td>0.0</td>\n",
       "      <td>1.0</td>\n",
       "      <td>0.551550</td>\n",
       "    </tr>\n",
       "  </tbody>\n",
       "</table>\n",
       "<p>1000 rows × 8 columns</p>\n",
       "</div>"
      ],
      "text/plain": [
       "     smoker  treatment  dead  propenstity  smoker_control  treatment_control  \\\n",
       "0         1          1     0     0.551550             1.0                0.0   \n",
       "1         0          1     0     0.200029             0.0                0.0   \n",
       "2         1          1     0     0.551550             1.0                0.0   \n",
       "3         1          1     1     0.551550             1.0                0.0   \n",
       "4         0          1     0     0.200029             0.0                0.0   \n",
       "..      ...        ...   ...          ...             ...                ...   \n",
       "995       1          1     0     0.551550             1.0                0.0   \n",
       "996       1          1     1     0.551550             1.0                0.0   \n",
       "997       1          1     1     0.551550             1.0                0.0   \n",
       "998       1          1     1     0.551550             1.0                0.0   \n",
       "999       1          1     0     0.551550             1.0                0.0   \n",
       "\n",
       "     dead_control  propenstity_control  \n",
       "0             1.0             0.551550  \n",
       "1             0.0             0.200029  \n",
       "2             1.0             0.551550  \n",
       "3             1.0             0.551550  \n",
       "4             0.0             0.200029  \n",
       "..            ...                  ...  \n",
       "995           1.0             0.551550  \n",
       "996           1.0             0.551550  \n",
       "997           1.0             0.551550  \n",
       "998           1.0             0.551550  \n",
       "999           1.0             0.551550  \n",
       "\n",
       "[1000 rows x 8 columns]"
      ]
     },
     "execution_count": 27,
     "metadata": {},
     "output_type": "execute_result"
    }
   ],
   "source": [
    "paired_df = treated.join(matched_df, rsuffix='_control')\n",
    "paired_df"
   ]
  },
  {
   "cell_type": "code",
   "execution_count": 28,
   "id": "d7508395",
   "metadata": {
    "ExecuteTime": {
     "end_time": "2021-11-13T12:03:07.307399Z",
     "start_time": "2021-11-13T12:03:07.302291Z"
    }
   },
   "outputs": [
    {
     "data": {
      "text/plain": [
       "-0.161"
      ]
     },
     "execution_count": 28,
     "metadata": {},
     "output_type": "execute_result"
    }
   ],
   "source": [
    "ATE = (paired_df['dead'] - paired_df['dead_control']).mean()\n",
    "ATE"
   ]
  },
  {
   "cell_type": "markdown",
   "id": "60422c0c",
   "metadata": {},
   "source": [
    "$$ATE = -0.083$$"
   ]
  },
  {
   "cell_type": "markdown",
   "id": "253489d3",
   "metadata": {},
   "source": [
    "### Method 2"
   ]
  },
  {
   "cell_type": "code",
   "execution_count": 29,
   "id": "6c242138",
   "metadata": {
    "ExecuteTime": {
     "end_time": "2021-11-13T12:04:49.742955Z",
     "start_time": "2021-11-13T12:04:49.391759Z"
    }
   },
   "outputs": [
    {
     "data": {
      "text/plain": [
       "array([[<AxesSubplot:title={'center':'propenstity'}>]], dtype=object)"
      ]
     },
     "execution_count": 29,
     "metadata": {},
     "output_type": "execute_result"
    },
    {
     "data": {
      "image/png": "[encoded data removed]",
      "text/plain": [
       "<Figure size 432x288 with 1 Axes>"
      ]
     },
     "metadata": {
      "needs_background": "light"
     },
     "output_type": "display_data"
    }
   ],
   "source": [
    "df.hist('propenstity')"
   ]
  },
  {
   "cell_type": "code",
   "execution_count": 38,
   "id": "9f11736a",
   "metadata": {
    "ExecuteTime": {
     "end_time": "2021-11-13T12:15:54.822502Z",
     "start_time": "2021-11-13T12:15:54.794764Z"
    }
   },
   "outputs": [],
   "source": [
    "high_ps = df[df['propenstity']>0.5]\n",
    "low_ps = df[df['propenstity']<=0.5]"
   ]
  },
  {
   "cell_type": "code",
   "execution_count": 32,
   "id": "92992ad4",
   "metadata": {
    "ExecuteTime": {
     "end_time": "2021-11-13T12:08:40.497580Z",
     "start_time": "2021-11-13T12:08:40.491303Z"
    }
   },
   "outputs": [
    {
     "data": {
      "text/plain": [
       "array([0.699177, 0.300823])"
      ]
     },
     "execution_count": 32,
     "metadata": {},
     "output_type": "execute_result"
    }
   ],
   "source": [
    "percentages = np.array([len(low_ps),len(high_ps)])/len(df)\n",
    "percentages"
   ]
  },
  {
   "cell_type": "code",
   "execution_count": 39,
   "id": "fd7e8987",
   "metadata": {
    "ExecuteTime": {
     "end_time": "2021-11-13T12:16:31.313892Z",
     "start_time": "2021-11-13T12:16:09.428488Z"
    }
   },
   "outputs": [],
   "source": [
    "n = 1000 \n",
    "samples = []\n",
    "for i in range(n):\n",
    "    is_high = random.random()>percentages[0]\n",
    "    if is_high:\n",
    "        treated_p =  high_ps[high_ps['treatment']==1].sample().iloc[0]\n",
    "        untreated_p =  high_ps[high_ps['treatment']==0].sample().iloc[0]\n",
    "    else: \n",
    "        treated_p =  low_ps[low_ps['treatment']==1].sample().iloc[0]\n",
    "        untreated_p =  low_ps[low_ps['treatment']==0].sample().iloc[0]\n",
    "    samples.append((treated_p, untreated_p))"
   ]
  },
  {
   "cell_type": "code",
   "execution_count": 42,
   "id": "84b6c1d5",
   "metadata": {
    "ExecuteTime": {
     "end_time": "2021-11-13T12:17:27.562311Z",
     "start_time": "2021-11-13T12:17:27.546954Z"
    }
   },
   "outputs": [],
   "source": [
    "inv_te = np.zeros(n)\n",
    "i = 0\n",
    "for t,c in samples:\n",
    "    inv_te[i] = t['dead'] - c['dead']\n",
    "    i += 1\n"
   ]
  },
  {
   "cell_type": "code",
   "execution_count": 43,
   "id": "1dd9ac97",
   "metadata": {
    "ExecuteTime": {
     "end_time": "2021-11-13T12:17:29.364823Z",
     "start_time": "2021-11-13T12:17:29.361829Z"
    }
   },
   "outputs": [
    {
     "data": {
      "text/plain": [
       "-0.097"
      ]
     },
     "execution_count": 43,
     "metadata": {},
     "output_type": "execute_result"
    }
   ],
   "source": [
    "ATE = inv_te.mean()\n",
    "ATE"
   ]
  },
  {
   "cell_type": "markdown",
   "id": "b4105e9e",
   "metadata": {},
   "source": [
    "### Method 3 (Subclassification on PS)"
   ]
  },
  {
   "cell_type": "markdown",
   "id": "3d9a690e",
   "metadata": {},
   "source": [
    "$$ATE = P_1 * ATE_1 + \\dots +  P_k * ATE_k $$"
   ]
  },
  {
   "cell_type": "code",
   "execution_count": 44,
   "id": "668fe6e4",
   "metadata": {
    "ExecuteTime": {
     "end_time": "2021-11-13T12:19:41.962226Z",
     "start_time": "2021-11-13T12:19:41.934664Z"
    }
   },
   "outputs": [
    {
     "data": {
      "text/plain": [
       "array([0.699177, 0.300823])"
      ]
     },
     "execution_count": 44,
     "metadata": {},
     "output_type": "execute_result"
    }
   ],
   "source": [
    "high_ps = df[df['propenstity']>0.5]\n",
    "low_ps = df[df['propenstity']<=0.5]\n",
    "\n",
    "percentages = np.array([len(low_ps),len(high_ps)])/len(df)\n",
    "percentages"
   ]
  },
  {
   "cell_type": "code",
   "execution_count": 52,
   "id": "022063eb",
   "metadata": {
    "ExecuteTime": {
     "end_time": "2021-11-13T12:23:13.452356Z",
     "start_time": "2021-11-13T12:23:13.441437Z"
    }
   },
   "outputs": [
    {
     "data": {
      "text/plain": [
       "-0.30154970389303043"
      ]
     },
     "execution_count": 52,
     "metadata": {},
     "output_type": "execute_result"
    }
   ],
   "source": [
    "high_t = high_ps[high_ps['treatment']==1]\n",
    "high_c = high_ps[high_ps['treatment']==0]\n",
    "ATE_high = high_t['dead'].mean() -  high_c['dead'].mean() \n",
    "ATE_high"
   ]
  },
  {
   "cell_type": "code",
   "execution_count": 53,
   "id": "6bab405f",
   "metadata": {
    "ExecuteTime": {
     "end_time": "2021-11-13T12:23:15.387975Z",
     "start_time": "2021-11-13T12:23:15.357032Z"
    }
   },
   "outputs": [
    {
     "data": {
      "text/plain": [
       "0.010967865389731754"
      ]
     },
     "execution_count": 53,
     "metadata": {},
     "output_type": "execute_result"
    }
   ],
   "source": [
    "low_t = low_ps[low_ps['treatment']==1]\n",
    "low_c = low_ps[low_ps['treatment']==0]\n",
    "ATE_low = low_t['dead'].mean() -  low_c['dead'].mean() \n",
    "ATE_low"
   ]
  },
  {
   "cell_type": "code",
   "execution_count": 55,
   "id": "37ba29ae",
   "metadata": {
    "ExecuteTime": {
     "end_time": "2021-11-13T12:24:14.753858Z",
     "start_time": "2021-11-13T12:24:14.744848Z"
    }
   },
   "outputs": [
    {
     "data": {
      "text/plain": [
       "-0.0830446073546166"
      ]
     },
     "execution_count": 55,
     "metadata": {},
     "output_type": "execute_result"
    }
   ],
   "source": [
    "ATE = percentages[0]*ATE_low+ percentages[1]*ATE_high\n",
    "ATE"
   ]
  }
 ],
 "metadata": {
  "hide_input": false,
  "kernelspec": {
   "display_name": "Python 3",
   "language": "python",
   "name": "python3"
  },
  "language_info": {
   "codemirror_mode": {
    "name": "ipython",
    "version": 3
   },
   "file_extension": ".py",
   "mimetype": "text/x-python",
   "name": "python",
   "nbconvert_exporter": "python",
   "pygments_lexer": "ipython3",
   "version": "3.9.7"
  },
  "latex_envs": {
   "LaTeX_envs_menu_present": true,
   "autoclose": true,
   "autocomplete": true,
   "bibliofile": "biblio.bib",
   "cite_by": "apalike",
   "current_citInitial": 1,
   "eqLabelWithNumbers": true,
   "eqNumInitial": 1,
   "hotkeys": {
    "equation": "Ctrl-E",
    "itemize": "Ctrl-I"
   },
   "labels_anchors": false,
   "latex_user_defs": false,
   "report_style_numbering": false,
   "user_envs_cfg": false
  },
  "toc": {
   "base_numbering": 1,
   "nav_menu": {},
   "number_sections": true,
   "sideBar": true,
   "skip_h1_title": false,
   "title_cell": "Table of Contents",
   "title_sidebar": "Contents",
   "toc_cell": false,
   "toc_position": {},
   "toc_section_display": true,
   "toc_window_display": false
  },
  "varInspector": {
   "cols": {
    "lenName": 16,
    "lenType": 16,
    "lenVar": 40
   },
   "kernels_config": {
    "python": {
     "delete_cmd_postfix": "",
     "delete_cmd_prefix": "del ",
     "library": "var_list.py",
     "varRefreshCmd": "print(var_dic_list())"
    },
    "r": {
     "delete_cmd_postfix": ") ",
     "delete_cmd_prefix": "rm(",
     "library": "var_list.r",
     "varRefreshCmd": "cat(var_dic_list()) "
    }
   },
   "types_to_exclude": [
    "module",
    "function",
    "builtin_function_or_method",
    "instance",
    "_Feature"
   ],
   "window_display": false
  }
 },
 "nbformat": 4,
 "nbformat_minor": 5
}

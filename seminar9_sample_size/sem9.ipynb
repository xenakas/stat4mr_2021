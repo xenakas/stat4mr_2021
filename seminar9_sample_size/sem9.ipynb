{
 "cells": [
  {
   "cell_type": "code",
   "execution_count": 1,
   "id": "726aa947",
   "metadata": {
    "ExecuteTime": {
     "end_time": "2021-11-27T12:39:53.516657Z",
     "start_time": "2021-11-27T12:39:53.224799Z"
    }
   },
   "outputs": [],
   "source": [
    "import pandas as pd\n",
    "import matplotlib.pyplot as plt"
   ]
  },
  {
   "cell_type": "code",
   "execution_count": 3,
   "id": "be29bc9b",
   "metadata": {
    "ExecuteTime": {
     "end_time": "2021-11-27T12:40:16.812918Z",
     "start_time": "2021-11-27T12:40:15.817047Z"
    }
   },
   "outputs": [],
   "source": [
    "housing = pd.read_csv('https://raw.githubusercontent.com/ageron/handson-ml/master/datasets/housing/housing.csv')"
   ]
  },
  {
   "cell_type": "code",
   "execution_count": 5,
   "id": "a14c0b76",
   "metadata": {
    "ExecuteTime": {
     "end_time": "2021-11-27T12:41:30.344031Z",
     "start_time": "2021-11-27T12:41:30.336623Z"
    }
   },
   "outputs": [
    {
     "data": {
      "text/plain": [
       "<1H OCEAN     9136\n",
       "INLAND        6551\n",
       "NEAR OCEAN    2658\n",
       "NEAR BAY      2290\n",
       "ISLAND           5\n",
       "Name: ocean_proximity, dtype: int64"
      ]
     },
     "execution_count": 5,
     "metadata": {},
     "output_type": "execute_result"
    }
   ],
   "source": [
    "housing.ocean_proximity.value_counts()"
   ]
  },
  {
   "cell_type": "code",
   "execution_count": 14,
   "id": "e2d28a87",
   "metadata": {
    "ExecuteTime": {
     "end_time": "2021-11-27T12:45:57.454916Z",
     "start_time": "2021-11-27T12:45:57.452824Z"
    }
   },
   "outputs": [],
   "source": [
    "# housing"
   ]
  },
  {
   "cell_type": "code",
   "execution_count": 8,
   "id": "23f9f36b",
   "metadata": {
    "ExecuteTime": {
     "end_time": "2021-11-27T12:43:21.271510Z",
     "start_time": "2021-11-27T12:43:21.266323Z"
    }
   },
   "outputs": [],
   "source": [
    "housing['income_cat'] = pd.cut(housing['median_income'], bins=[0.,1.5,3.0,4.5,6,np.inf], labels=[1,2,3,4,5])"
   ]
  },
  {
   "cell_type": "code",
   "execution_count": 9,
   "id": "4a8bc75a",
   "metadata": {
    "ExecuteTime": {
     "end_time": "2021-11-27T12:43:36.543272Z",
     "start_time": "2021-11-27T12:43:36.383974Z"
    }
   },
   "outputs": [
    {
     "data": {
      "text/plain": [
       "(array([ 822.,    0., 6581.,    0.,    0., 7236.,    0., 3639.,    0.,\n",
       "        2362.]),\n",
       " array([1. , 1.4, 1.8, 2.2, 2.6, 3. , 3.4, 3.8, 4.2, 4.6, 5. ]),\n",
       " <BarContainer object of 10 artists>)"
      ]
     },
     "execution_count": 9,
     "metadata": {},
     "output_type": "execute_result"
    },
    {
     "data": {
      "image/png": "[encoded data removed]",
      "text/plain": [
       "<Figure size 432x288 with 1 Axes>"
      ]
     },
     "metadata": {
      "needs_background": "light"
     },
     "output_type": "display_data"
    }
   ],
   "source": [
    "plt.hist(housing['income_cat'])"
   ]
  },
  {
   "cell_type": "code",
   "execution_count": 11,
   "id": "5c5d21f3",
   "metadata": {
    "ExecuteTime": {
     "end_time": "2021-11-27T12:45:20.507609Z",
     "start_time": "2021-11-27T12:45:20.492857Z"
    }
   },
   "outputs": [],
   "source": [
    "h1 = housing.groupby('income_cat', group_keys=False).apply(lambda x: x.sample(200))"
   ]
  },
  {
   "cell_type": "code",
   "execution_count": 12,
   "id": "582026dc",
   "metadata": {
    "ExecuteTime": {
     "end_time": "2021-11-27T12:45:35.269595Z",
     "start_time": "2021-11-27T12:45:35.129228Z"
    }
   },
   "outputs": [
    {
     "data": {
      "text/plain": [
       "(array([200.,   0., 200.,   0.,   0., 200.,   0., 200.,   0., 200.]),\n",
       " array([1. , 1.4, 1.8, 2.2, 2.6, 3. , 3.4, 3.8, 4.2, 4.6, 5. ]),\n",
       " <BarContainer object of 10 artists>)"
      ]
     },
     "execution_count": 12,
     "metadata": {},
     "output_type": "execute_result"
    },
    {
     "data": {
      "image/png": "[encoded data removed]",
      "text/plain": [
       "<Figure size 432x288 with 1 Axes>"
      ]
     },
     "metadata": {
      "needs_background": "light"
     },
     "output_type": "display_data"
    }
   ],
   "source": [
    "plt.hist(h1['income_cat'])"
   ]
  },
  {
   "cell_type": "code",
   "execution_count": 17,
   "id": "d0d0fdb3",
   "metadata": {
    "ExecuteTime": {
     "end_time": "2021-11-27T12:48:05.767263Z",
     "start_time": "2021-11-27T12:48:05.753770Z"
    }
   },
   "outputs": [],
   "source": [
    "n=1000\n",
    "h2 = housing.groupby('income_cat', group_keys=False).apply(lambda x: x.sample(int(np.rint(n*len(x)/len(housing))))).sample(frac=1)"
   ]
  },
  {
   "cell_type": "code",
   "execution_count": 19,
   "id": "5a22f6e0",
   "metadata": {
    "ExecuteTime": {
     "end_time": "2021-11-27T12:48:21.550947Z",
     "start_time": "2021-11-27T12:48:21.432919Z"
    }
   },
   "outputs": [
    {
     "data": {
      "image/png": "[encoded data removed]",
      "text/plain": [
       "<Figure size 432x288 with 1 Axes>"
      ]
     },
     "metadata": {
      "needs_background": "light"
     },
     "output_type": "display_data"
    }
   ],
   "source": [
    "plt.hist(h2['income_cat']);"
   ]
  },
  {
   "cell_type": "code",
   "execution_count": 16,
   "id": "74c19ab5",
   "metadata": {
    "ExecuteTime": {
     "end_time": "2021-11-27T12:46:12.926905Z",
     "start_time": "2021-11-27T12:46:12.810190Z"
    },
    "scrolled": true
   },
   "outputs": [
    {
     "data": {
      "text/plain": [
       "(array([ 877., 3612., 4099., 3771., 2799., 1769., 1239.,  752.,  479.,\n",
       "        1243.]),\n",
       " array([ 14999. ,  63499.2, 111999.4, 160499.6, 208999.8, 257500. ,\n",
       "        306000.2, 354500.4, 403000.6, 451500.8, 500001. ]),\n",
       " <BarContainer object of 10 artists>)"
      ]
     },
     "execution_count": 16,
     "metadata": {},
     "output_type": "execute_result"
    },
    {
     "data": {
      "image/png": "[encoded data removed]",
      "text/plain": [
       "<Figure size 432x288 with 1 Axes>"
      ]
     },
     "metadata": {
      "needs_background": "light"
     },
     "output_type": "display_data"
    }
   ],
   "source": [
    "plt.hist(housing['median_house_value'])"
   ]
  },
  {
   "cell_type": "code",
   "execution_count": 15,
   "id": "8c47be2d",
   "metadata": {
    "ExecuteTime": {
     "end_time": "2021-11-27T12:46:02.436192Z",
     "start_time": "2021-11-27T12:46:02.329046Z"
    },
    "scrolled": true
   },
   "outputs": [
    {
     "data": {
      "text/plain": [
       "(array([ 89., 176., 161., 134., 136.,  68.,  73.,  40.,  30.,  93.]),\n",
       " array([ 22500. ,  70250.1, 118000.2, 165750.3, 213500.4, 261250.5,\n",
       "        309000.6, 356750.7, 404500.8, 452250.9, 500001. ]),\n",
       " <BarContainer object of 10 artists>)"
      ]
     },
     "execution_count": 15,
     "metadata": {},
     "output_type": "execute_result"
    },
    {
     "data": {
      "image/png": "[encoded data removed]",
      "text/plain": [
       "<Figure size 432x288 with 1 Axes>"
      ]
     },
     "metadata": {
      "needs_background": "light"
     },
     "output_type": "display_data"
    }
   ],
   "source": [
    "plt.hist(h1['median_house_value'])"
   ]
  },
  {
   "cell_type": "code",
   "execution_count": 20,
   "id": "b630130d",
   "metadata": {
    "ExecuteTime": {
     "end_time": "2021-11-27T12:48:49.355380Z",
     "start_time": "2021-11-27T12:48:49.236630Z"
    }
   },
   "outputs": [
    {
     "data": {
      "text/plain": [
       "(array([142., 166., 205., 142., 100.,  71.,  67.,  32.,  23.,  52.]),\n",
       " array([ 44600. ,  90140.1, 135680.2, 181220.3, 226760.4, 272300.5,\n",
       "        317840.6, 363380.7, 408920.8, 454460.9, 500001. ]),\n",
       " <BarContainer object of 10 artists>)"
      ]
     },
     "execution_count": 20,
     "metadata": {},
     "output_type": "execute_result"
    },
    {
     "data": {
      "image/png": "[encoded data removed]",
      "text/plain": [
       "<Figure size 432x288 with 1 Axes>"
      ]
     },
     "metadata": {
      "needs_background": "light"
     },
     "output_type": "display_data"
    }
   ],
   "source": [
    "plt.hist(h2['median_house_value'])"
   ]
  },
  {
   "cell_type": "code",
   "execution_count": 21,
   "id": "0d61a113",
   "metadata": {
    "ExecuteTime": {
     "end_time": "2021-11-27T12:49:42.460976Z",
     "start_time": "2021-11-27T12:49:42.457988Z"
    }
   },
   "outputs": [],
   "source": [
    "from sklearn.model_selection import StratifiedShuffleSplit"
   ]
  },
  {
   "cell_type": "code",
   "execution_count": 23,
   "id": "24551e74",
   "metadata": {
    "ExecuteTime": {
     "end_time": "2021-11-27T12:52:07.748240Z",
     "start_time": "2021-11-27T12:52:07.721763Z"
    }
   },
   "outputs": [],
   "source": [
    "split = StratifiedShuffleSplit(n_splits=1, test_size=0.2)\n",
    "\n",
    "for train_index, test_index in split.split(housing,housing['income_cat']):\n",
    "    strat_train_set = housing.loc[train_index]\n",
    "    strat_test_set = housing.loc[test_index]"
   ]
  },
  {
   "cell_type": "code",
   "execution_count": 24,
   "id": "46fb348f",
   "metadata": {
    "ExecuteTime": {
     "end_time": "2021-11-27T12:52:21.626325Z",
     "start_time": "2021-11-27T12:52:21.623064Z"
    }
   },
   "outputs": [],
   "source": [
    "h3 = strat_train_set.copy()"
   ]
  },
  {
   "cell_type": "code",
   "execution_count": 25,
   "id": "0a6b210e",
   "metadata": {
    "ExecuteTime": {
     "end_time": "2021-11-27T12:52:36.355246Z",
     "start_time": "2021-11-27T12:52:36.231958Z"
    }
   },
   "outputs": [
    {
     "data": {
      "image/png": "[encoded data removed]",
      "text/plain": [
       "<Figure size 432x288 with 1 Axes>"
      ]
     },
     "metadata": {
      "needs_background": "light"
     },
     "output_type": "display_data"
    }
   ],
   "source": [
    "plt.hist(h3['income_cat']);"
   ]
  },
  {
   "cell_type": "code",
   "execution_count": 26,
   "id": "50a84ef0",
   "metadata": {
    "ExecuteTime": {
     "end_time": "2021-11-27T12:52:47.433028Z",
     "start_time": "2021-11-27T12:52:47.329771Z"
    }
   },
   "outputs": [
    {
     "data": {
      "text/plain": [
       "(array([ 707., 2915., 3273., 3017., 2221., 1408.,  992.,  593.,  390.,\n",
       "         996.]),\n",
       " array([ 14999. ,  63499.2, 111999.4, 160499.6, 208999.8, 257500. ,\n",
       "        306000.2, 354500.4, 403000.6, 451500.8, 500001. ]),\n",
       " <BarContainer object of 10 artists>)"
      ]
     },
     "execution_count": 26,
     "metadata": {},
     "output_type": "execute_result"
    },
    {
     "data": {
      "image/png": "[encoded data removed]",
      "text/plain": [
       "<Figure size 432x288 with 1 Axes>"
      ]
     },
     "metadata": {
      "needs_background": "light"
     },
     "output_type": "display_data"
    }
   ],
   "source": [
    "plt.hist(h3['median_house_value'])"
   ]
  }
 ],
 "metadata": {
  "hide_input": false,
  "kernelspec": {
   "display_name": "Python 3",
   "language": "python",
   "name": "python3"
  },
  "language_info": {
   "codemirror_mode": {
    "name": "ipython",
    "version": 3
   },
   "file_extension": ".py",
   "mimetype": "text/x-python",
   "name": "python",
   "nbconvert_exporter": "python",
   "pygments_lexer": "ipython3",
   "version": "3.9.7"
  },
  "latex_envs": {
   "LaTeX_envs_menu_present": true,
   "autoclose": true,
   "autocomplete": true,
   "bibliofile": "biblio.bib",
   "cite_by": "apalike",
   "current_citInitial": 1,
   "eqLabelWithNumbers": true,
   "eqNumInitial": 1,
   "hotkeys": {
    "equation": "Ctrl-E",
    "itemize": "Ctrl-I"
   },
   "labels_anchors": false,
   "latex_user_defs": false,
   "report_style_numbering": false,
   "user_envs_cfg": false
  },
  "toc": {
   "base_numbering": 1,
   "nav_menu": {},
   "number_sections": true,
   "sideBar": true,
   "skip_h1_title": false,
   "title_cell": "Table of Contents",
   "title_sidebar": "Contents",
   "toc_cell": false,
   "toc_position": {},
   "toc_section_display": true,
   "toc_window_display": false
  },
  "varInspector": {
   "cols": {
    "lenName": 16,
    "lenType": 16,
    "lenVar": 40
   },
   "kernels_config": {
    "python": {
     "delete_cmd_postfix": "",
     "delete_cmd_prefix": "del ",
     "library": "var_list.py",
     "varRefreshCmd": "print(var_dic_list())"
    },
    "r": {
     "delete_cmd_postfix": ") ",
     "delete_cmd_prefix": "rm(",
     "library": "var_list.r",
     "varRefreshCmd": "cat(var_dic_list()) "
    }
   },
   "types_to_exclude": [
    "module",
    "function",
    "builtin_function_or_method",
    "instance",
    "_Feature"
   ],
   "window_display": false
  }
 },
 "nbformat": 4,
 "nbformat_minor": 5
}

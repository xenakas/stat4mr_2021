{
 "cells": [
  {
   "cell_type": "code",
   "execution_count": 1,
   "id": "ff405872",
   "metadata": {
    "ExecuteTime": {
     "end_time": "2021-10-09T10:44:09.925023Z",
     "start_time": "2021-10-09T10:44:09.713453Z"
    }
   },
   "outputs": [],
   "source": [
    "import numpy.random as npr\n",
    "import numpy as np\n",
    "import pandas as pd"
   ]
  },
  {
   "cell_type": "code",
   "execution_count": 2,
   "id": "58828d2e",
   "metadata": {
    "ExecuteTime": {
     "end_time": "2021-10-09T10:44:24.425833Z",
     "start_time": "2021-10-09T10:44:24.420116Z"
    }
   },
   "outputs": [],
   "source": [
    "nusers = 100"
   ]
  },
  {
   "cell_type": "code",
   "execution_count": 27,
   "id": "3329c0d7",
   "metadata": {
    "ExecuteTime": {
     "end_time": "2021-10-09T10:55:39.102346Z",
     "start_time": "2021-10-09T10:55:39.098438Z"
    }
   },
   "outputs": [],
   "source": [
    "treatment = npr.choice([0,1], nusers)\n",
    "group = npr.choice(np.arange(7), nusers)+1\n",
    "covariate = npr.normal(0,1, nusers)\n",
    "metric = covariate + npr.normal(0,0.3*group, nusers) + 0.1*treatment "
   ]
  },
  {
   "cell_type": "code",
   "execution_count": 28,
   "id": "6c4320d8",
   "metadata": {
    "ExecuteTime": {
     "end_time": "2021-10-09T10:55:39.293429Z",
     "start_time": "2021-10-09T10:55:39.287012Z"
    }
   },
   "outputs": [],
   "source": [
    "df1 = pd.DataFrame([treatment,group,covariate,metric], index=['treatment','group','covariate','metric']).T"
   ]
  },
  {
   "cell_type": "code",
   "execution_count": 29,
   "id": "850750cf",
   "metadata": {
    "ExecuteTime": {
     "end_time": "2021-10-09T10:55:39.503189Z",
     "start_time": "2021-10-09T10:55:39.492697Z"
    }
   },
   "outputs": [
    {
     "data": {
      "text/html": [
       "<div>\n",
       "<style scoped>\n",
       "    .dataframe tbody tr th:only-of-type {\n",
       "        vertical-align: middle;\n",
       "    }\n",
       "\n",
       "    .dataframe tbody tr th {\n",
       "        vertical-align: top;\n",
       "    }\n",
       "\n",
       "    .dataframe thead th {\n",
       "        text-align: right;\n",
       "    }\n",
       "</style>\n",
       "<table border=\"1\" class=\"dataframe\">\n",
       "  <thead>\n",
       "    <tr style=\"text-align: right;\">\n",
       "      <th></th>\n",
       "      <th>treatment</th>\n",
       "      <th>group</th>\n",
       "      <th>covariate</th>\n",
       "      <th>metric</th>\n",
       "    </tr>\n",
       "  </thead>\n",
       "  <tbody>\n",
       "    <tr>\n",
       "      <th>0</th>\n",
       "      <td>0.0</td>\n",
       "      <td>3.0</td>\n",
       "      <td>-1.596571</td>\n",
       "      <td>-2.501299</td>\n",
       "    </tr>\n",
       "    <tr>\n",
       "      <th>1</th>\n",
       "      <td>0.0</td>\n",
       "      <td>7.0</td>\n",
       "      <td>-1.573384</td>\n",
       "      <td>2.762432</td>\n",
       "    </tr>\n",
       "    <tr>\n",
       "      <th>2</th>\n",
       "      <td>1.0</td>\n",
       "      <td>7.0</td>\n",
       "      <td>-1.266361</td>\n",
       "      <td>-4.896212</td>\n",
       "    </tr>\n",
       "    <tr>\n",
       "      <th>3</th>\n",
       "      <td>0.0</td>\n",
       "      <td>4.0</td>\n",
       "      <td>-0.684415</td>\n",
       "      <td>1.825449</td>\n",
       "    </tr>\n",
       "    <tr>\n",
       "      <th>4</th>\n",
       "      <td>1.0</td>\n",
       "      <td>6.0</td>\n",
       "      <td>-0.651876</td>\n",
       "      <td>-1.099201</td>\n",
       "    </tr>\n",
       "  </tbody>\n",
       "</table>\n",
       "</div>"
      ],
      "text/plain": [
       "   treatment  group  covariate    metric\n",
       "0        0.0    3.0  -1.596571 -2.501299\n",
       "1        0.0    7.0  -1.573384  2.762432\n",
       "2        1.0    7.0  -1.266361 -4.896212\n",
       "3        0.0    4.0  -0.684415  1.825449\n",
       "4        1.0    6.0  -0.651876 -1.099201"
      ]
     },
     "execution_count": 29,
     "metadata": {},
     "output_type": "execute_result"
    }
   ],
   "source": []
  },
  {
   "cell_type": "code",
   "execution_count": 30,
   "id": "6e4351a4",
   "metadata": {
    "ExecuteTime": {
     "end_time": "2021-10-09T10:55:39.651896Z",
     "start_time": "2021-10-09T10:55:39.648605Z"
    }
   },
   "outputs": [],
   "source": [
    "df1['metric_cuped'] = metric - np.cov(metric, covariate)[0,1]/np.var(covariate)*covariate"
   ]
  },
  {
   "cell_type": "code",
   "execution_count": 31,
   "id": "4c773b66",
   "metadata": {
    "ExecuteTime": {
     "end_time": "2021-10-09T10:55:39.845352Z",
     "start_time": "2021-10-09T10:55:39.842768Z"
    }
   },
   "outputs": [],
   "source": [
    "import statsmodels.stats.weightstats as smw"
   ]
  },
  {
   "cell_type": "code",
   "execution_count": 32,
   "id": "71f963e0",
   "metadata": {
    "ExecuteTime": {
     "end_time": "2021-10-09T10:55:39.999924Z",
     "start_time": "2021-10-09T10:55:39.997159Z"
    }
   },
   "outputs": [],
   "source": [
    "x = df1['metric'][df1['treatment']==0]\n",
    "y = df1['metric'][df1['treatment']!=0]"
   ]
  },
  {
   "cell_type": "code",
   "execution_count": 33,
   "id": "6c275d8b",
   "metadata": {
    "ExecuteTime": {
     "end_time": "2021-10-09T10:55:40.312862Z",
     "start_time": "2021-10-09T10:55:40.307117Z"
    }
   },
   "outputs": [
    {
     "data": {
      "text/plain": [
       "(1.5334364622310441, 0.1285247898496123, 94.06966557514058)"
      ]
     },
     "execution_count": 33,
     "metadata": {},
     "output_type": "execute_result"
    }
   ],
   "source": [
    "smw.ttest_ind(x,y,usevar='unequal')"
   ]
  },
  {
   "cell_type": "code",
   "execution_count": 34,
   "id": "26477be9",
   "metadata": {
    "ExecuteTime": {
     "end_time": "2021-10-09T10:55:40.538925Z",
     "start_time": "2021-10-09T10:55:40.534383Z"
    }
   },
   "outputs": [],
   "source": [
    "x = df1['metric_cuped'][df1['treatment']==0]\n",
    "y = df1['metric_cuped'][df1['treatment']!=0]"
   ]
  },
  {
   "cell_type": "code",
   "execution_count": 35,
   "id": "a8bfb465",
   "metadata": {
    "ExecuteTime": {
     "end_time": "2021-10-09T10:55:40.734801Z",
     "start_time": "2021-10-09T10:55:40.731357Z"
    }
   },
   "outputs": [
    {
     "data": {
      "text/plain": [
       "(2.0426757500344883, 0.04383172736570556, 95.80332746295929)"
      ]
     },
     "execution_count": 35,
     "metadata": {},
     "output_type": "execute_result"
    }
   ],
   "source": [
    "smw.ttest_ind(x,y,usevar='unequal')"
   ]
  },
  {
   "cell_type": "code",
   "execution_count": 36,
   "id": "5eb38e6c",
   "metadata": {
    "ExecuteTime": {
     "end_time": "2021-10-09T10:56:39.308372Z",
     "start_time": "2021-10-09T10:56:39.299046Z"
    }
   },
   "outputs": [
    {
     "data": {
      "text/html": [
       "<div>\n",
       "<style scoped>\n",
       "    .dataframe tbody tr th:only-of-type {\n",
       "        vertical-align: middle;\n",
       "    }\n",
       "\n",
       "    .dataframe tbody tr th {\n",
       "        vertical-align: top;\n",
       "    }\n",
       "\n",
       "    .dataframe thead th {\n",
       "        text-align: right;\n",
       "    }\n",
       "</style>\n",
       "<table border=\"1\" class=\"dataframe\">\n",
       "  <thead>\n",
       "    <tr style=\"text-align: right;\">\n",
       "      <th></th>\n",
       "      <th>treatment</th>\n",
       "      <th>group</th>\n",
       "      <th>covariate</th>\n",
       "      <th>metric</th>\n",
       "      <th>metric_cuped</th>\n",
       "    </tr>\n",
       "  </thead>\n",
       "  <tbody>\n",
       "    <tr>\n",
       "      <th>0</th>\n",
       "      <td>0.0</td>\n",
       "      <td>3.0</td>\n",
       "      <td>-1.596571</td>\n",
       "      <td>-2.501299</td>\n",
       "      <td>-1.104631</td>\n",
       "    </tr>\n",
       "    <tr>\n",
       "      <th>1</th>\n",
       "      <td>0.0</td>\n",
       "      <td>7.0</td>\n",
       "      <td>-1.573384</td>\n",
       "      <td>2.762432</td>\n",
       "      <td>4.138816</td>\n",
       "    </tr>\n",
       "    <tr>\n",
       "      <th>2</th>\n",
       "      <td>1.0</td>\n",
       "      <td>7.0</td>\n",
       "      <td>-1.266361</td>\n",
       "      <td>-4.896212</td>\n",
       "      <td>-3.788409</td>\n",
       "    </tr>\n",
       "    <tr>\n",
       "      <th>3</th>\n",
       "      <td>0.0</td>\n",
       "      <td>4.0</td>\n",
       "      <td>-0.684415</td>\n",
       "      <td>1.825449</td>\n",
       "      <td>2.424170</td>\n",
       "    </tr>\n",
       "    <tr>\n",
       "      <th>4</th>\n",
       "      <td>1.0</td>\n",
       "      <td>6.0</td>\n",
       "      <td>-0.651876</td>\n",
       "      <td>-1.099201</td>\n",
       "      <td>-0.528945</td>\n",
       "    </tr>\n",
       "    <tr>\n",
       "      <th>...</th>\n",
       "      <td>...</td>\n",
       "      <td>...</td>\n",
       "      <td>...</td>\n",
       "      <td>...</td>\n",
       "      <td>...</td>\n",
       "    </tr>\n",
       "    <tr>\n",
       "      <th>95</th>\n",
       "      <td>1.0</td>\n",
       "      <td>1.0</td>\n",
       "      <td>0.256380</td>\n",
       "      <td>0.337546</td>\n",
       "      <td>0.113267</td>\n",
       "    </tr>\n",
       "    <tr>\n",
       "      <th>96</th>\n",
       "      <td>1.0</td>\n",
       "      <td>3.0</td>\n",
       "      <td>0.734991</td>\n",
       "      <td>0.652662</td>\n",
       "      <td>0.009698</td>\n",
       "    </tr>\n",
       "    <tr>\n",
       "      <th>97</th>\n",
       "      <td>0.0</td>\n",
       "      <td>3.0</td>\n",
       "      <td>0.840779</td>\n",
       "      <td>2.588024</td>\n",
       "      <td>1.852517</td>\n",
       "    </tr>\n",
       "    <tr>\n",
       "      <th>98</th>\n",
       "      <td>0.0</td>\n",
       "      <td>3.0</td>\n",
       "      <td>1.141853</td>\n",
       "      <td>1.306481</td>\n",
       "      <td>0.307597</td>\n",
       "    </tr>\n",
       "    <tr>\n",
       "      <th>99</th>\n",
       "      <td>0.0</td>\n",
       "      <td>4.0</td>\n",
       "      <td>-0.429884</td>\n",
       "      <td>-0.002846</td>\n",
       "      <td>0.373213</td>\n",
       "    </tr>\n",
       "  </tbody>\n",
       "</table>\n",
       "<p>100 rows × 5 columns</p>\n",
       "</div>"
      ],
      "text/plain": [
       "    treatment  group  covariate    metric  metric_cuped\n",
       "0         0.0    3.0  -1.596571 -2.501299     -1.104631\n",
       "1         0.0    7.0  -1.573384  2.762432      4.138816\n",
       "2         1.0    7.0  -1.266361 -4.896212     -3.788409\n",
       "3         0.0    4.0  -0.684415  1.825449      2.424170\n",
       "4         1.0    6.0  -0.651876 -1.099201     -0.528945\n",
       "..        ...    ...        ...       ...           ...\n",
       "95        1.0    1.0   0.256380  0.337546      0.113267\n",
       "96        1.0    3.0   0.734991  0.652662      0.009698\n",
       "97        0.0    3.0   0.840779  2.588024      1.852517\n",
       "98        0.0    3.0   1.141853  1.306481      0.307597\n",
       "99        0.0    4.0  -0.429884 -0.002846      0.373213\n",
       "\n",
       "[100 rows x 5 columns]"
      ]
     },
     "execution_count": 36,
     "metadata": {},
     "output_type": "execute_result"
    }
   ],
   "source": [
    "df1"
   ]
  },
  {
   "cell_type": "code",
   "execution_count": 37,
   "id": "8fca3fcc",
   "metadata": {
    "ExecuteTime": {
     "end_time": "2021-10-09T10:56:59.289979Z",
     "start_time": "2021-10-09T10:56:58.989472Z"
    }
   },
   "outputs": [],
   "source": [
    "import statsmodels.api as sm"
   ]
  },
  {
   "cell_type": "code",
   "execution_count": 52,
   "id": "a9c4e474",
   "metadata": {
    "ExecuteTime": {
     "end_time": "2021-10-09T11:07:28.978604Z",
     "start_time": "2021-10-09T11:07:28.964396Z"
    }
   },
   "outputs": [],
   "source": [
    "x = df1['covariate']\n",
    "x = sm.add_constant(x)\n",
    "\n",
    "model1 = sm.OLS(df1['metric'], x)"
   ]
  },
  {
   "cell_type": "code",
   "execution_count": 53,
   "id": "7fc5ca73",
   "metadata": {
    "ExecuteTime": {
     "end_time": "2021-10-09T11:07:29.905488Z",
     "start_time": "2021-10-09T11:07:29.898566Z"
    }
   },
   "outputs": [],
   "source": [
    "results = model1.fit()"
   ]
  },
  {
   "cell_type": "code",
   "execution_count": 54,
   "id": "14055940",
   "metadata": {
    "ExecuteTime": {
     "end_time": "2021-10-09T11:07:30.271274Z",
     "start_time": "2021-10-09T11:07:30.249971Z"
    }
   },
   "outputs": [
    {
     "name": "stdout",
     "output_type": "stream",
     "text": [
      "                            OLS Regression Results                            \n",
      "==============================================================================\n",
      "Dep. Variable:                 metric   R-squared:                       0.265\n",
      "Model:                            OLS   Adj. R-squared:                  0.257\n",
      "Method:                 Least Squares   F-statistic:                     35.31\n",
      "Date:                Sat, 09 Oct 2021   Prob (F-statistic):           4.31e-08\n",
      "Time:                        14:07:30   Log-Likelihood:                -180.09\n",
      "No. Observations:                 100   AIC:                             364.2\n",
      "Df Residuals:                      98   BIC:                             369.4\n",
      "Df Model:                           1                                         \n",
      "Covariance Type:            nonrobust                                         \n",
      "==============================================================================\n",
      "                 coef    std err          t      P>|t|      [0.025      0.975]\n",
      "------------------------------------------------------------------------------\n",
      "const         -0.1783      0.149     -1.199      0.233      -0.473       0.117\n",
      "covariate      0.8660      0.146      5.942      0.000       0.577       1.155\n",
      "==============================================================================\n",
      "Omnibus:                        3.677   Durbin-Watson:                   2.041\n",
      "Prob(Omnibus):                  0.159   Jarque-Bera (JB):                3.063\n",
      "Skew:                           0.322   Prob(JB):                        0.216\n",
      "Kurtosis:                       3.567   Cond. No.                         1.10\n",
      "==============================================================================\n",
      "\n",
      "Notes:\n",
      "[1] Standard Errors assume that the covariance matrix of the errors is correctly specified.\n"
     ]
    }
   ],
   "source": [
    "print(results.summary())"
   ]
  },
  {
   "cell_type": "code",
   "execution_count": 55,
   "id": "051449a3",
   "metadata": {
    "ExecuteTime": {
     "end_time": "2021-10-09T11:07:32.271039Z",
     "start_time": "2021-10-09T11:07:32.266040Z"
    }
   },
   "outputs": [],
   "source": [
    "# results.resid\n",
    "x = df1['treatment']\n",
    "# x = sm.add_constant(x)"
   ]
  },
  {
   "cell_type": "code",
   "execution_count": 56,
   "id": "f2a8fb1f",
   "metadata": {
    "ExecuteTime": {
     "end_time": "2021-10-09T11:07:42.584088Z",
     "start_time": "2021-10-09T11:07:42.573571Z"
    }
   },
   "outputs": [
    {
     "name": "stdout",
     "output_type": "stream",
     "text": [
      "                                 OLS Regression Results                                \n",
      "=======================================================================================\n",
      "Dep. Variable:                      y   R-squared (uncentered):                   0.022\n",
      "Model:                            OLS   Adj. R-squared (uncentered):              0.012\n",
      "Method:                 Least Squares   F-statistic:                              2.262\n",
      "Date:                Sat, 09 Oct 2021   Prob (F-statistic):                       0.136\n",
      "Time:                        14:07:42   Log-Likelihood:                         -178.96\n",
      "No. Observations:                 100   AIC:                                      359.9\n",
      "Df Residuals:                      99   BIC:                                      362.5\n",
      "Df Model:                           1                                                  \n",
      "Covariance Type:            nonrobust                                                  \n",
      "==============================================================================\n",
      "                 coef    std err          t      P>|t|      [0.025      0.975]\n",
      "------------------------------------------------------------------------------\n",
      "treatment     -0.3301      0.219     -1.504      0.136      -0.766       0.105\n",
      "==============================================================================\n",
      "Omnibus:                        3.024   Durbin-Watson:                   1.973\n",
      "Prob(Omnibus):                  0.220   Jarque-Bera (JB):                2.371\n",
      "Skew:                           0.308   Prob(JB):                        0.306\n",
      "Kurtosis:                       3.435   Cond. No.                         1.00\n",
      "==============================================================================\n",
      "\n",
      "Notes:\n",
      "[1] R² is computed without centering (uncentered) since the model does not contain a constant.\n",
      "[2] Standard Errors assume that the covariance matrix of the errors is correctly specified.\n"
     ]
    }
   ],
   "source": [
    "model2 = sm.OLS(results.resid, x)\n",
    "results = model2.fit()\n",
    "print(results.summary())"
   ]
  },
  {
   "cell_type": "code",
   "execution_count": 49,
   "id": "75540b25",
   "metadata": {
    "ExecuteTime": {
     "end_time": "2021-10-09T11:03:27.991927Z",
     "start_time": "2021-10-09T11:03:27.981761Z"
    }
   },
   "outputs": [
    {
     "name": "stdout",
     "output_type": "stream",
     "text": [
      "                            OLS Regression Results                            \n",
      "==============================================================================\n",
      "Dep. Variable:                 metric   R-squared:                       0.294\n",
      "Model:                            OLS   Adj. R-squared:                  0.280\n",
      "Method:                 Least Squares   F-statistic:                     20.22\n",
      "Date:                Sat, 09 Oct 2021   Prob (F-statistic):           4.57e-08\n",
      "Time:                        14:03:27   Log-Likelihood:                -178.05\n",
      "No. Observations:                 100   AIC:                             362.1\n",
      "Df Residuals:                      97   BIC:                             369.9\n",
      "Df Model:                           2                                         \n",
      "Covariance Type:            nonrobust                                         \n",
      "==============================================================================\n",
      "                 coef    std err          t      P>|t|      [0.025      0.975]\n",
      "------------------------------------------------------------------------------\n",
      "const          0.0825      0.196      0.421      0.674      -0.306       0.471\n",
      "covariate      0.8766      0.144      6.103      0.000       0.592       1.162\n",
      "treatment     -0.5902      0.294     -2.009      0.047      -1.173      -0.007\n",
      "==============================================================================\n",
      "Omnibus:                        2.427   Durbin-Watson:                   1.957\n",
      "Prob(Omnibus):                  0.297   Jarque-Bera (JB):                1.826\n",
      "Skew:                           0.292   Prob(JB):                        0.401\n",
      "Kurtosis:                       3.313   Cond. No.                         2.54\n",
      "==============================================================================\n",
      "\n",
      "Notes:\n",
      "[1] Standard Errors assume that the covariance matrix of the errors is correctly specified.\n"
     ]
    }
   ],
   "source": [
    "# results.resid\n",
    "x = df1.loc[:,['covariate','treatment' ]]\n",
    "x = sm.add_constant(x)\n",
    "\n",
    "model1 = sm.OLS(df1['metric'], x)\n",
    "# model2 = sm.OLS(results.resid, x)\n",
    "results = model1.fit()\n",
    "print(results.summary())"
   ]
  },
  {
   "cell_type": "code",
   "execution_count": 58,
   "id": "a1ec435d",
   "metadata": {
    "ExecuteTime": {
     "end_time": "2021-10-09T11:15:08.654670Z",
     "start_time": "2021-10-09T11:15:08.640427Z"
    }
   },
   "outputs": [
    {
     "name": "stdout",
     "output_type": "stream",
     "text": [
      "                            OLS Regression Results                            \n",
      "==============================================================================\n",
      "Dep. Variable:                 metric   R-squared:                       0.300\n",
      "Model:                            OLS   Adj. R-squared:                  0.279\n",
      "Method:                 Least Squares   F-statistic:                     13.74\n",
      "Date:                Sat, 09 Oct 2021   Prob (F-statistic):           1.58e-07\n",
      "Time:                        14:15:08   Log-Likelihood:                -177.61\n",
      "No. Observations:                 100   AIC:                             363.2\n",
      "Df Residuals:                      96   BIC:                             373.6\n",
      "Df Model:                           3                                         \n",
      "Covariance Type:            nonrobust                                         \n",
      "==============================================================================\n",
      "                 coef    std err          t      P>|t|      [0.025      0.975]\n",
      "------------------------------------------------------------------------------\n",
      "const          0.3884      0.386      1.007      0.316      -0.377       1.154\n",
      "covariate      0.8686      0.144      6.032      0.000       0.583       1.154\n",
      "group         -0.0738      0.080     -0.921      0.360      -0.233       0.085\n",
      "treatment     -0.6166      0.295     -2.087      0.040      -1.203      -0.030\n",
      "==============================================================================\n",
      "Omnibus:                        5.883   Durbin-Watson:                   1.989\n",
      "Prob(Omnibus):                  0.053   Jarque-Bera (JB):                5.248\n",
      "Skew:                           0.501   Prob(JB):                       0.0725\n",
      "Kurtosis:                       3.507   Cond. No.                         13.1\n",
      "==============================================================================\n",
      "\n",
      "Notes:\n",
      "[1] Standard Errors assume that the covariance matrix of the errors is correctly specified.\n"
     ]
    }
   ],
   "source": [
    "# results.resid\n",
    "x = df1.loc[:,['covariate','group','treatment' ]]\n",
    "x = sm.add_constant(x)\n",
    "\n",
    "model1 = sm.OLS(df1['metric'], x)\n",
    "# model2 = sm.OLS(results.resid, x)\n",
    "results = model1.fit()\n",
    "print(results.summary())"
   ]
  }
 ],
 "metadata": {
  "hide_input": false,
  "kernelspec": {
   "display_name": "Python 3",
   "language": "python",
   "name": "python3"
  },
  "language_info": {
   "codemirror_mode": {
    "name": "ipython",
    "version": 3
   },
   "file_extension": ".py",
   "mimetype": "text/x-python",
   "name": "python",
   "nbconvert_exporter": "python",
   "pygments_lexer": "ipython3",
   "version": "3.9.5"
  },
  "latex_envs": {
   "LaTeX_envs_menu_present": true,
   "autoclose": true,
   "autocomplete": true,
   "bibliofile": "biblio.bib",
   "cite_by": "apalike",
   "current_citInitial": 1,
   "eqLabelWithNumbers": true,
   "eqNumInitial": 1,
   "hotkeys": {
    "equation": "Ctrl-E",
    "itemize": "Ctrl-I"
   },
   "labels_anchors": false,
   "latex_user_defs": false,
   "report_style_numbering": false,
   "user_envs_cfg": false
  },
  "toc": {
   "base_numbering": 1,
   "nav_menu": {},
   "number_sections": true,
   "sideBar": true,
   "skip_h1_title": false,
   "title_cell": "Table of Contents",
   "title_sidebar": "Contents",
   "toc_cell": false,
   "toc_position": {},
   "toc_section_display": true,
   "toc_window_display": false
  },
  "varInspector": {
   "cols": {
    "lenName": 16,
    "lenType": 16,
    "lenVar": 40
   },
   "kernels_config": {
    "python": {
     "delete_cmd_postfix": "",
     "delete_cmd_prefix": "del ",
     "library": "var_list.py",
     "varRefreshCmd": "print(var_dic_list())"
    },
    "r": {
     "delete_cmd_postfix": ") ",
     "delete_cmd_prefix": "rm(",
     "library": "var_list.r",
     "varRefreshCmd": "cat(var_dic_list()) "
    }
   },
   "types_to_exclude": [
    "module",
    "function",
    "builtin_function_or_method",
    "instance",
    "_Feature"
   ],
   "window_display": false
  }
 },
 "nbformat": 4,
 "nbformat_minor": 5
}

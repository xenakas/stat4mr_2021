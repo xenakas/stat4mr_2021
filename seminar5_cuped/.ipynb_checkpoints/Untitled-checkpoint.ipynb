{
 "cells": [
  {
   "cell_type": "markdown",
   "id": "9de4cd41",
   "metadata": {},
   "source": [
    "Pageviews: Number of unique cookies to view the course overview page that day.\n",
    "\n",
    "Clicks: Number of unique cookies to click the course overview page that day.\n",
    "\n",
    "Enrollments: Number of user-ids to enroll in the free trial that day.\n",
    "\n",
    "Payments: Number of user-ids who who enrolled on that day to remain enrolled for 14 days and thus make a payment. (Note that the date for this column is the start date, that is, the date\n",
    "of enrollment, rather than the date of the payment. The payment happened 14 days later. Because of this, the enrollments and payments are tracked for 14 fewer days than the other columns.)"
   ]
  },
  {
   "cell_type": "code",
   "execution_count": 1,
   "id": "67a2b7ae",
   "metadata": {
    "ExecuteTime": {
     "end_time": "2021-10-09T07:23:48.047828Z",
     "start_time": "2021-10-09T07:23:47.213285Z"
    }
   },
   "outputs": [],
   "source": [
    "import math as mt\n",
    "import numpy as np\n",
    "import pandas as pd\n",
    "from scipy.stats import norm"
   ]
  },
  {
   "cell_type": "code",
   "execution_count": 2,
   "id": "d062eee9",
   "metadata": {
    "ExecuteTime": {
     "end_time": "2021-10-09T07:24:26.105785Z",
     "start_time": "2021-10-09T07:24:26.083528Z"
    }
   },
   "outputs": [],
   "source": [
    "control = pd.read_csv('control_data.csv')\n",
    "treat = pd.read_csv('experiment_data.csv')"
   ]
  },
  {
   "cell_type": "code",
   "execution_count": 4,
   "id": "2bee39bb",
   "metadata": {
    "ExecuteTime": {
     "end_time": "2021-10-09T07:24:48.246169Z",
     "start_time": "2021-10-09T07:24:48.237434Z"
    }
   },
   "outputs": [],
   "source": [
    "control['treatment'] = 0"
   ]
  },
  {
   "cell_type": "code",
   "execution_count": 5,
   "id": "9214fd77",
   "metadata": {
    "ExecuteTime": {
     "end_time": "2021-10-09T07:25:03.089780Z",
     "start_time": "2021-10-09T07:25:03.087229Z"
    }
   },
   "outputs": [],
   "source": [
    "treat['treatment'] = 1"
   ]
  },
  {
   "cell_type": "code",
   "execution_count": 9,
   "id": "fb897e57",
   "metadata": {
    "ExecuteTime": {
     "end_time": "2021-10-09T07:25:53.981158Z",
     "start_time": "2021-10-09T07:25:53.971991Z"
    }
   },
   "outputs": [],
   "source": [
    "df = control.append(treat)"
   ]
  }
 ],
 "metadata": {
  "hide_input": false,
  "kernelspec": {
   "display_name": "Python 3",
   "language": "python",
   "name": "python3"
  },
  "language_info": {
   "codemirror_mode": {
    "name": "ipython",
    "version": 3
   },
   "file_extension": ".py",
   "mimetype": "text/x-python",
   "name": "python",
   "nbconvert_exporter": "python",
   "pygments_lexer": "ipython3",
   "version": "3.9.5"
  },
  "latex_envs": {
   "LaTeX_envs_menu_present": true,
   "autoclose": true,
   "autocomplete": true,
   "bibliofile": "biblio.bib",
   "cite_by": "apalike",
   "current_citInitial": 1,
   "eqLabelWithNumbers": true,
   "eqNumInitial": 1,
   "hotkeys": {
    "equation": "Ctrl-E",
    "itemize": "Ctrl-I"
   },
   "labels_anchors": false,
   "latex_user_defs": false,
   "report_style_numbering": false,
   "user_envs_cfg": false
  },
  "toc": {
   "base_numbering": 1,
   "nav_menu": {},
   "number_sections": true,
   "sideBar": true,
   "skip_h1_title": false,
   "title_cell": "Table of Contents",
   "title_sidebar": "Contents",
   "toc_cell": false,
   "toc_position": {},
   "toc_section_display": true,
   "toc_window_display": false
  },
  "varInspector": {
   "cols": {
    "lenName": 16,
    "lenType": 16,
    "lenVar": 40
   },
   "kernels_config": {
    "python": {
     "delete_cmd_postfix": "",
     "delete_cmd_prefix": "del ",
     "library": "var_list.py",
     "varRefreshCmd": "print(var_dic_list())"
    },
    "r": {
     "delete_cmd_postfix": ") ",
     "delete_cmd_prefix": "rm(",
     "library": "var_list.r",
     "varRefreshCmd": "cat(var_dic_list()) "
    }
   },
   "types_to_exclude": [
    "module",
    "function",
    "builtin_function_or_method",
    "instance",
    "_Feature"
   ],
   "window_display": false
  }
 },
 "nbformat": 4,
 "nbformat_minor": 5
}
